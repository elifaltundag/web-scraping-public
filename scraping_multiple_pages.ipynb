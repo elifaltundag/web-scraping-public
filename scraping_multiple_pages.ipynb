{
 "cells": [
  {
   "cell_type": "code",
   "execution_count": 1,
   "id": "8b7a9906-eed4-47f2-8ec5-87ee42278976",
   "metadata": {},
   "outputs": [
    {
     "name": "stdout",
     "output_type": "stream",
     "text": [
      "No more products to load.\n",
      "Total product links collected: 47\n"
     ]
    }
   ],
   "source": [
    "# Import the necessary modules\n",
    "from selenium import webdriver\n",
    "from selenium.webdriver.chrome.service import Service\n",
    "from selenium.webdriver.chrome.options import Options\n",
    "from selenium.webdriver.common.by import By\n",
    "from selenium.webdriver.support.ui import WebDriverWait\n",
    "from selenium.webdriver.support import expected_conditions as EC\n",
    "from bs4 import BeautifulSoup\n",
    "import time\n",
    "\n",
    "# GLOBAL VARIABLES\n",
    "product_links = []\n",
    "service = Service(executable_path=\"C:/Users/elif-/Downloads/chromedriver-win64/chromedriver.exe\")\n",
    "url_results = \"https://www.hepsiburada.com/ara?q=diz%C3%BCst%C3%BC+bilgisayar\"\n",
    "\n",
    "# ---------------------------------------------------------------------------------------------------------\n",
    "# SETUP CHROME DRIVER\n",
    "chrome_options = Options()\n",
    "prefs = {\"profile.default_content_setting_values.notifications\": 2}\n",
    "chrome_options.add_experimental_option(\"prefs\", prefs) # Disable all notifications\n",
    "chrome_options.add_argument(\"--disable-extensions\")  # Disable all extensions\n",
    "driver = webdriver.Chrome(service=service, options=chrome_options)\n",
    "\n",
    "# ---------------------------------------------------------------------------------------------------------\n",
    "# SCRAPE 500 PRODUCT LINKS\n",
    "i_page = 1\n",
    "\n",
    "while len(product_links) < 500:\n",
    "    if i_page == 1:\n",
    "        url = url_results\n",
    "    else:\n",
    "        url = url_results + \"%sayfa=\" + str(i_page)\n",
    "        driver.execute_script(\"window.open('');\")\n",
    "        driver.switch_to.window(driver.window_handles[-1])\n",
    "\n",
    "    driver.get(url)\n",
    "    html_content = driver.page_source\n",
    "    soup = BeautifulSoup(html_content, \"html.parser\")\n",
    "\n",
    "    ul_elm = soup.find(\"ul\", id=str(i_page))\n",
    "    if ul_elm:\n",
    "        li_elms = ul_elm.find_all(\"li\")\n",
    "\n",
    "    for li in li_elms:\n",
    "        a_elm = li.find(\"a\")\n",
    "        if a_elm and \"href\" in a_elm.attrs:\n",
    "            product_links.append(a_elm[\"href\"])\n",
    "\n",
    "        if len(product_links) == 500: break\n",
    "\n",
    "    i_page += 1\n",
    "\n",
    "print(f'Total product links collected: {len(product_links)}')\n",
    "\n",
    "# Close the driver\n",
    "driver.quit()"
   ]
  },
  {
   "cell_type": "code",
   "execution_count": null,
   "id": "cc6c053a-f3e1-4b68-91e1-eb783316e355",
   "metadata": {},
   "outputs": [],
   "source": []
  }
 ],
 "metadata": {
  "kernelspec": {
   "display_name": "Python 3 (ipykernel)",
   "language": "python",
   "name": "python3"
  },
  "language_info": {
   "codemirror_mode": {
    "name": "ipython",
    "version": 3
   },
   "file_extension": ".py",
   "mimetype": "text/x-python",
   "name": "python",
   "nbconvert_exporter": "python",
   "pygments_lexer": "ipython3",
   "version": "3.12.4"
  }
 },
 "nbformat": 4,
 "nbformat_minor": 5
}
